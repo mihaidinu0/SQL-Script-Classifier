{
 "cells": [
  {
   "attachments": {},
   "cell_type": "markdown",
   "metadata": {
    "tags": []
   },
   "source": [
    "## SQL Injection Attacks Detection"
   ]
  },
  {
   "attachments": {},
   "cell_type": "markdown",
   "metadata": {},
   "source": [
    "We proceed to install the required packages and libraries."
   ]
  },
  {
   "cell_type": "code",
   "execution_count": 3,
   "metadata": {},
   "outputs": [
    {
     "name": "stdout",
     "output_type": "stream",
     "text": [
      "Defaulting to user installation because normal site-packages is not writeable\n",
      "Requirement already satisfied: pandas in c:\\programdata\\anaconda3\\lib\\site-packages (1.4.4)\n",
      "Requirement already satisfied: matplotlib in c:\\programdata\\anaconda3\\lib\\site-packages (3.5.2)\n",
      "Requirement already satisfied: scikit-learn in c:\\programdata\\anaconda3\\lib\\site-packages (1.0.2)\n",
      "Requirement already satisfied: tensorflow in c:\\users\\mihai dinu\\appdata\\roaming\\python\\python39\\site-packages (2.11.0)\n",
      "Requirement already satisfied: pytz>=2020.1 in c:\\programdata\\anaconda3\\lib\\site-packages (from pandas) (2022.1)\n",
      "Requirement already satisfied: python-dateutil>=2.8.1 in c:\\programdata\\anaconda3\\lib\\site-packages (from pandas) (2.8.2)\n",
      "Requirement already satisfied: numpy>=1.18.5 in c:\\programdata\\anaconda3\\lib\\site-packages (from pandas) (1.21.5)\n",
      "Requirement already satisfied: pillow>=6.2.0 in c:\\programdata\\anaconda3\\lib\\site-packages (from matplotlib) (9.2.0)\n",
      "Requirement already satisfied: cycler>=0.10 in c:\\programdata\\anaconda3\\lib\\site-packages (from matplotlib) (0.11.0)\n",
      "Requirement already satisfied: kiwisolver>=1.0.1 in c:\\programdata\\anaconda3\\lib\\site-packages (from matplotlib) (1.4.2)\n",
      "Requirement already satisfied: fonttools>=4.22.0 in c:\\programdata\\anaconda3\\lib\\site-packages (from matplotlib) (4.25.0)\n",
      "Requirement already satisfied: pyparsing>=2.2.1 in c:\\programdata\\anaconda3\\lib\\site-packages (from matplotlib) (3.0.9)\n",
      "Requirement already satisfied: packaging>=20.0 in c:\\programdata\\anaconda3\\lib\\site-packages (from matplotlib) (21.3)\n",
      "Requirement already satisfied: joblib>=0.11 in c:\\programdata\\anaconda3\\lib\\site-packages (from scikit-learn) (1.1.0)\n",
      "Requirement already satisfied: threadpoolctl>=2.0.0 in c:\\programdata\\anaconda3\\lib\\site-packages (from scikit-learn) (2.2.0)\n",
      "Requirement already satisfied: scipy>=1.1.0 in c:\\programdata\\anaconda3\\lib\\site-packages (from scikit-learn) (1.9.1)\n",
      "Requirement already satisfied: tensorflow-intel==2.11.0 in c:\\users\\mihai dinu\\appdata\\roaming\\python\\python39\\site-packages (from tensorflow) (2.11.0)\n",
      "Requirement already satisfied: tensorflow-io-gcs-filesystem>=0.23.1 in c:\\users\\mihai dinu\\appdata\\roaming\\python\\python39\\site-packages (from tensorflow-intel==2.11.0->tensorflow) (0.27.0)\n",
      "Requirement already satisfied: astunparse>=1.6.0 in c:\\users\\mihai dinu\\appdata\\roaming\\python\\python39\\site-packages (from tensorflow-intel==2.11.0->tensorflow) (1.6.3)\n",
      "Requirement already satisfied: tensorboard<2.12,>=2.11 in c:\\users\\mihai dinu\\appdata\\roaming\\python\\python39\\site-packages (from tensorflow-intel==2.11.0->tensorflow) (2.11.0)\n",
      "Requirement already satisfied: grpcio<2.0,>=1.24.3 in c:\\users\\mihai dinu\\appdata\\roaming\\python\\python39\\site-packages (from tensorflow-intel==2.11.0->tensorflow) (1.50.0)\n",
      "Requirement already satisfied: google-pasta>=0.1.1 in c:\\users\\mihai dinu\\appdata\\roaming\\python\\python39\\site-packages (from tensorflow-intel==2.11.0->tensorflow) (0.2.0)\n",
      "Requirement already satisfied: protobuf<3.20,>=3.9.2 in c:\\users\\mihai dinu\\appdata\\roaming\\python\\python39\\site-packages (from tensorflow-intel==2.11.0->tensorflow) (3.19.6)\n",
      "Requirement already satisfied: flatbuffers>=2.0 in c:\\users\\mihai dinu\\appdata\\roaming\\python\\python39\\site-packages (from tensorflow-intel==2.11.0->tensorflow) (22.10.26)\n",
      "Requirement already satisfied: libclang>=13.0.0 in c:\\users\\mihai dinu\\appdata\\roaming\\python\\python39\\site-packages (from tensorflow-intel==2.11.0->tensorflow) (14.0.6)\n",
      "Requirement already satisfied: wrapt>=1.11.0 in c:\\programdata\\anaconda3\\lib\\site-packages (from tensorflow-intel==2.11.0->tensorflow) (1.14.1)\n",
      "Requirement already satisfied: six>=1.12.0 in c:\\programdata\\anaconda3\\lib\\site-packages (from tensorflow-intel==2.11.0->tensorflow) (1.16.0)\n",
      "Requirement already satisfied: setuptools in c:\\programdata\\anaconda3\\lib\\site-packages (from tensorflow-intel==2.11.0->tensorflow) (63.4.1)\n",
      "Requirement already satisfied: tensorflow-estimator<2.12,>=2.11.0 in c:\\users\\mihai dinu\\appdata\\roaming\\python\\python39\\site-packages (from tensorflow-intel==2.11.0->tensorflow) (2.11.0)\n",
      "Requirement already satisfied: gast<=0.4.0,>=0.2.1 in c:\\users\\mihai dinu\\appdata\\roaming\\python\\python39\\site-packages (from tensorflow-intel==2.11.0->tensorflow) (0.4.0)\n",
      "Requirement already satisfied: keras<2.12,>=2.11.0 in c:\\users\\mihai dinu\\appdata\\roaming\\python\\python39\\site-packages (from tensorflow-intel==2.11.0->tensorflow) (2.11.0)\n",
      "Requirement already satisfied: h5py>=2.9.0 in c:\\programdata\\anaconda3\\lib\\site-packages (from tensorflow-intel==2.11.0->tensorflow) (3.7.0)\n",
      "Requirement already satisfied: termcolor>=1.1.0 in c:\\users\\mihai dinu\\appdata\\roaming\\python\\python39\\site-packages (from tensorflow-intel==2.11.0->tensorflow) (2.1.1)\n",
      "Requirement already satisfied: absl-py>=1.0.0 in c:\\users\\mihai dinu\\appdata\\roaming\\python\\python39\\site-packages (from tensorflow-intel==2.11.0->tensorflow) (1.3.0)\n",
      "Requirement already satisfied: typing-extensions>=3.6.6 in c:\\programdata\\anaconda3\\lib\\site-packages (from tensorflow-intel==2.11.0->tensorflow) (4.3.0)\n",
      "Requirement already satisfied: opt-einsum>=2.3.2 in c:\\users\\mihai dinu\\appdata\\roaming\\python\\python39\\site-packages (from tensorflow-intel==2.11.0->tensorflow) (3.3.0)\n",
      "Requirement already satisfied: wheel<1.0,>=0.23.0 in c:\\programdata\\anaconda3\\lib\\site-packages (from astunparse>=1.6.0->tensorflow-intel==2.11.0->tensorflow) (0.37.1)\n",
      "Requirement already satisfied: markdown>=2.6.8 in c:\\programdata\\anaconda3\\lib\\site-packages (from tensorboard<2.12,>=2.11->tensorflow-intel==2.11.0->tensorflow) (3.3.4)\n",
      "Requirement already satisfied: google-auth<3,>=1.6.3 in c:\\users\\mihai dinu\\appdata\\roaming\\python\\python39\\site-packages (from tensorboard<2.12,>=2.11->tensorflow-intel==2.11.0->tensorflow) (2.14.1)\n",
      "Requirement already satisfied: tensorboard-data-server<0.7.0,>=0.6.0 in c:\\users\\mihai dinu\\appdata\\roaming\\python\\python39\\site-packages (from tensorboard<2.12,>=2.11->tensorflow-intel==2.11.0->tensorflow) (0.6.1)\n",
      "Requirement already satisfied: google-auth-oauthlib<0.5,>=0.4.1 in c:\\users\\mihai dinu\\appdata\\roaming\\python\\python39\\site-packages (from tensorboard<2.12,>=2.11->tensorflow-intel==2.11.0->tensorflow) (0.4.6)\n",
      "Requirement already satisfied: requests<3,>=2.21.0 in c:\\programdata\\anaconda3\\lib\\site-packages (from tensorboard<2.12,>=2.11->tensorflow-intel==2.11.0->tensorflow) (2.28.1)\n",
      "Requirement already satisfied: werkzeug>=1.0.1 in c:\\programdata\\anaconda3\\lib\\site-packages (from tensorboard<2.12,>=2.11->tensorflow-intel==2.11.0->tensorflow) (2.0.3)\n",
      "Requirement already satisfied: tensorboard-plugin-wit>=1.6.0 in c:\\users\\mihai dinu\\appdata\\roaming\\python\\python39\\site-packages (from tensorboard<2.12,>=2.11->tensorflow-intel==2.11.0->tensorflow) (1.8.1)\n",
      "Requirement already satisfied: rsa<5,>=3.1.4 in c:\\users\\mihai dinu\\appdata\\roaming\\python\\python39\\site-packages (from google-auth<3,>=1.6.3->tensorboard<2.12,>=2.11->tensorflow-intel==2.11.0->tensorflow) (4.9)\n",
      "Requirement already satisfied: cachetools<6.0,>=2.0.0 in c:\\users\\mihai dinu\\appdata\\roaming\\python\\python39\\site-packages (from google-auth<3,>=1.6.3->tensorboard<2.12,>=2.11->tensorflow-intel==2.11.0->tensorflow) (5.2.0)\n",
      "Requirement already satisfied: pyasn1-modules>=0.2.1 in c:\\programdata\\anaconda3\\lib\\site-packages (from google-auth<3,>=1.6.3->tensorboard<2.12,>=2.11->tensorflow-intel==2.11.0->tensorflow) (0.2.8)\n",
      "Requirement already satisfied: requests-oauthlib>=0.7.0 in c:\\users\\mihai dinu\\appdata\\roaming\\python\\python39\\site-packages (from google-auth-oauthlib<0.5,>=0.4.1->tensorboard<2.12,>=2.11->tensorflow-intel==2.11.0->tensorflow) (1.3.1)\n",
      "Requirement already satisfied: charset-normalizer<3,>=2 in c:\\programdata\\anaconda3\\lib\\site-packages (from requests<3,>=2.21.0->tensorboard<2.12,>=2.11->tensorflow-intel==2.11.0->tensorflow) (2.0.4)\n",
      "Requirement already satisfied: idna<4,>=2.5 in c:\\programdata\\anaconda3\\lib\\site-packages (from requests<3,>=2.21.0->tensorboard<2.12,>=2.11->tensorflow-intel==2.11.0->tensorflow) (3.3)\n",
      "Requirement already satisfied: urllib3<1.27,>=1.21.1 in c:\\programdata\\anaconda3\\lib\\site-packages (from requests<3,>=2.21.0->tensorboard<2.12,>=2.11->tensorflow-intel==2.11.0->tensorflow) (1.26.11)\n",
      "Requirement already satisfied: certifi>=2017.4.17 in c:\\programdata\\anaconda3\\lib\\site-packages (from requests<3,>=2.21.0->tensorboard<2.12,>=2.11->tensorflow-intel==2.11.0->tensorflow) (2022.9.14)\n",
      "Requirement already satisfied: pyasn1<0.5.0,>=0.4.6 in c:\\programdata\\anaconda3\\lib\\site-packages (from pyasn1-modules>=0.2.1->google-auth<3,>=1.6.3->tensorboard<2.12,>=2.11->tensorflow-intel==2.11.0->tensorflow) (0.4.8)\n",
      "Requirement already satisfied: oauthlib>=3.0.0 in c:\\users\\mihai dinu\\appdata\\roaming\\python\\python39\\site-packages (from requests-oauthlib>=0.7.0->google-auth-oauthlib<0.5,>=0.4.1->tensorboard<2.12,>=2.11->tensorflow-intel==2.11.0->tensorflow) (3.2.2)\n"
     ]
    }
   ],
   "source": [
    "import sys\n",
    "!{sys.executable} -m pip install pandas matplotlib scikit-learn tensorflow\n"
   ]
  },
  {
   "attachments": {},
   "cell_type": "markdown",
   "metadata": {},
   "source": [
    "Import the required packages and libraries."
   ]
  },
  {
   "cell_type": "code",
   "execution_count": 4,
   "metadata": {},
   "outputs": [],
   "source": [
    "# Import libraries\n",
    "import pandas as pd\n",
    "import matplotlib.pyplot as plt\n",
    "from functools import reduce\n",
    "import numpy as np\n",
    "\n",
    "import requests\n",
    "import tensorflow as tf"
   ]
  },
  {
   "attachments": {},
   "cell_type": "markdown",
   "metadata": {},
   "source": [
    "We proceed to load the dataset."
   ]
  },
  {
   "cell_type": "code",
   "execution_count": 5,
   "metadata": {},
   "outputs": [],
   "source": [
    "# Import data\n",
    "train_df = pd.read_csv('./data/sql_train.csv')\n",
    "valid_df = pd.read_csv('./data/sql_val.csv')\n",
    "test_df = pd.read_csv('./data/sql_test.csv')\n",
    "\n",
    "# Preprocessing\n",
    "train_df['Sentence'] = train_df['Sentence'].apply(lambda x: str(x))\n",
    "valid_df['Sentence'] = valid_df['Sentence'].apply(lambda x: str(x))\n",
    "test_df['Sentence'] = test_df['Sentence'].apply(lambda x: str(x))"
   ]
  },
  {
   "attachments": {},
   "cell_type": "markdown",
   "metadata": {},
   "source": [
    "# Analyzing the dataset\n",
    "We have 3 datasets: `train`, `validation` and `test`.\n",
    "- `train` set has 45.288 entries\n",
    "- `validation` set has 5.661 entries\n",
    "- `test` set has 5.661 entries."
   ]
  },
  {
   "cell_type": "code",
   "execution_count": 6,
   "metadata": {},
   "outputs": [
    {
     "name": "stdout",
     "output_type": "stream",
     "text": [
      "There are 127 unique chars in training set.\n",
      "['\\x18', ' ', '!', '\"', '#', '$', '%', '&', \"'\", '(', ')', '*', '+', ',', '-', '.', '/', '0', '1', '2', '3', '4', '5', '6', '7', '8', '9', ':', ';', '<', '=', '>', '?', '@', 'A', 'B', 'C', 'D', 'E', 'F', 'G', 'H', 'I', 'J', 'K', 'L', 'M', 'N', 'O', 'P', 'Q', 'R', 'S', 'T', 'U', 'V', 'W', 'X', 'Y', 'Z', '[', '\\\\', ']', '^', '_', '`', 'a', 'b', 'c', 'd', 'e', 'f', 'g', 'h', 'i', 'j', 'k', 'l', 'm', 'n', 'o', 'p', 'q', 'r', 's', 't', 'u', 'v', 'w', 'x', 'y', 'z', '{', '|', '~', '\\x80', '\\x98', '\\xa0', '£', '½', 'Ã', 'ß', 'â', 'ä', 'ö', 'ü', '—', '‘', '’', '“', '”', '거', '길', '나', '난', '다', '동', '리', '멋', '빠', '요', '있', '주', '추', '트', '하', '홍']\n",
      "There are 111 unique chars in validation set.\n",
      "[' ', '!', '\"', '#', '$', '%', '&', \"'\", '(', ')', '*', '+', ',', '-', '.', '/', '0', '1', '2', '3', '4', '5', '6', '7', '8', '9', ':', ';', '<', '=', '>', '?', '@', 'A', 'B', 'C', 'D', 'E', 'F', 'G', 'H', 'I', 'J', 'K', 'L', 'M', 'N', 'O', 'P', 'Q', 'R', 'S', 'T', 'U', 'V', 'W', 'X', 'Y', 'Z', '[', '\\\\', ']', '_', '`', 'a', 'b', 'c', 'd', 'e', 'f', 'g', 'h', 'i', 'j', 'k', 'l', 'm', 'n', 'o', 'p', 'q', 'r', 's', 't', 'u', 'v', 'w', 'x', 'y', 'z', '{', '|', '~', '\\xa0', '£', 'Ü', 'ß', 'à', 'ä', 'ö', 'ü', '—', '‘', '’', '“', '”', '€', '난', '다', '이', '짱']\n",
      "There are 103 unique chars in testing set.\n",
      "['\\x18', ' ', '!', '\"', '#', '$', '%', '&', \"'\", '(', ')', '*', '+', ',', '-', '.', '/', '0', '1', '2', '3', '4', '5', '6', '7', '8', '9', ':', ';', '<', '=', '>', '?', '@', 'A', 'B', 'C', 'D', 'E', 'F', 'G', 'H', 'I', 'J', 'K', 'L', 'M', 'N', 'O', 'P', 'R', 'S', 'T', 'U', 'V', 'W', 'Y', 'Z', '[', '\\\\', ']', '^', '_', 'a', 'b', 'c', 'd', 'e', 'f', 'g', 'h', 'i', 'j', 'k', 'l', 'm', 'n', 'o', 'p', 'q', 'r', 's', 't', 'u', 'v', 'w', 'x', 'y', 'z', '{', '|', '~', '\\xa0', '£', 'ä', 'ö', '—', '’', '난', '다', '륭', '하', '훌']\n",
      "There are 134 unique chars across all datasets.\n",
      "['\\x18', ' ', '!', '\"', '#', '$', '%', '&', \"'\", '(', ')', '*', '+', ',', '-', '.', '/', '0', '1', '2', '3', '4', '5', '6', '7', '8', '9', ':', ';', '<', '=', '>', '?', '@', 'A', 'B', 'C', 'D', 'E', 'F', 'G', 'H', 'I', 'J', 'K', 'L', 'M', 'N', 'O', 'P', 'Q', 'R', 'S', 'T', 'U', 'V', 'W', 'X', 'Y', 'Z', '[', '\\\\', ']', '^', '_', '`', 'a', 'b', 'c', 'd', 'e', 'f', 'g', 'h', 'i', 'j', 'k', 'l', 'm', 'n', 'o', 'p', 'q', 'r', 's', 't', 'u', 'v', 'w', 'x', 'y', 'z', '{', '|', '~', '\\x80', '\\x98', '\\xa0', '£', '½', 'Ã', 'Ü', 'ß', 'à', 'â', 'ä', 'ö', 'ü', '—', '‘', '’', '“', '”', '€', '거', '길', '나', '난', '다', '동', '륭', '리', '멋', '빠', '요', '이', '있', '주', '짱', '추', '트', '하', '홍', '훌']\n"
     ]
    }
   ],
   "source": [
    "## Unique Characters\n",
    "# Get a set of chars for Sentence in each set of data\n",
    "char_set_train = train_df['Sentence'].apply(set)\n",
    "char_set_val = valid_df['Sentence'].apply(set)\n",
    "char_set_test = test_df['Sentence'].apply(set)\n",
    "\n",
    "# Perform the union of all these sets to obtain the unique characters in each set\n",
    "unique_chars_train = reduce(set.union, char_set_train)\n",
    "unique_chars_val = reduce(set.union, char_set_val)\n",
    "unique_chars_test = reduce(set.union, char_set_test)\n",
    "\n",
    "# Getting the unique characters across the entire dataset that was provided\n",
    "sets_list = [unique_chars_train, unique_chars_val, unique_chars_test]\n",
    "unique_chars_overall = set().union(*sets_list)\n",
    "\n",
    "# Sort them by their corresponding ascii value\n",
    "unique_chars_train = sorted(unique_chars_train, key=ord)\n",
    "unique_chars_val = sorted(unique_chars_val, key=ord)\n",
    "unique_chars_test = sorted(unique_chars_test, key=ord)\n",
    "\n",
    "unique_chars_overall = sorted(unique_chars_overall, key=ord)\n",
    "\n",
    "# Printing the results\n",
    "print(f\"There are {len(unique_chars_train)} unique chars in training set.\")\n",
    "print(unique_chars_train)\n",
    "\n",
    "print(f\"There are {len(unique_chars_val)} unique chars in validation set.\")\n",
    "print(unique_chars_val)\n",
    "\n",
    "print(f\"There are {len(unique_chars_test)} unique chars in testing set.\")\n",
    "print(unique_chars_test)\n",
    "\n",
    "print(f\"There are {len(unique_chars_overall)} unique chars across all datasets.\")\n",
    "print(unique_chars_overall)"
   ]
  },
  {
   "attachments": {},
   "cell_type": "markdown",
   "metadata": {},
   "source": [
    "# Observations regarding characters\n",
    "- The full English alphabet, in both lowercase and uppercase\n",
    "- All the digits from 0 to 9\n",
    "- Whitespace: ' '\n",
    "- Mathematical operators: \n",
    "- Korean Characters: 거, 길, 나, 난, 다, 동, 리, 멋, 빠, 요, 있, 주, 추, 트, 하, 홍\n",
    "- Characters from other latin alphabets: Ã, ß, â, ä, ö, ü\n",
    "- Non-ASCII characters present encoding errors in CSV: \\x18, \\x80, \\x98, \\xa0\n",
    "- Logical and Mathematical Operators\n",
    "- Punctuation Marks\n",
    "- Special irrelevant symbols: ½\n",
    "- Currencies\n",
    "- etc.\n",
    "\n",
    "# Regarding datasets\n",
    "The out-of-vocabulary characters that may be encountered by the soon-to-be ML model should be handled somehow: either they should be removed in preprocessing, or the model should be built in such a way that its performance isn't affected by these characters."
   ]
  },
  {
   "cell_type": "markdown",
   "metadata": {
    "tags": []
   },
   "source": [
    "# Regarding SQL Syntax\n",
    "## Case-Sensitivity - Converting to lowercase\n",
    "The provided dataset is comprised of **SQL injection snippets**. We know for a fact that **SQL syntax is, for the most part, case-insensitive**. Keywords such as (SELECT, CREATE_TABLE) can be written in any way and still run fine. When it comes to table names, case-sensitivity **can** be enabled in certain DBMS's, but **I don't believe this will negatively impact the performance of the model**.\n",
    "\n",
    "For the purposes of this challenge, and if my assumptions are correct, **converting the dataset to lowercase will not cause any significant context loss**."
   ]
  },
  {
   "cell_type": "markdown",
   "metadata": {},
   "source": [
    "# Using existing research\n",
    "\n",
    "To compensate for my lack of experience (and truth be told, knowledge...) I've decided to look up research papers on this matter in order to gain some insights on the problem. I believe this doesn't break any of the rules of ths\\ competition, as I'm only using these sources to better decide on how to approach the problem and come up with a decent-ish solution.\n",
    "\n",
    "Disclaimer: The information that was extracted from the papers wasn't subjected to rigurous analysis due to lack of time and lack of experience in the field. I'm superficially scanning the sources and naively using the conclusions and results in my solution.\n",
    "\n",
    "The papers which I've considered for the current problem are:\n",
    "- https://scholarworks.sjsu.edu/cgi/viewcontent.cgi?article=1649&context=etd_projects\n",
    "- https://revistageintec.net/wp-content/uploads/2022/02/1939.pdf\n",
    "\n",
    "Relevant information that I've extracted from these papers:\n",
    "- CNN's (Neural Networks in general) are more accurate, but they are costly in terms of resources and time\n",
    "- Decision Tree algorithms (Ex: Random Forest) perform similarly to CNN's, but at a fraction of the resource costs\n",
    "=> Conclusion: The Accuracy-Cost ratio of RF is better in comparison to CNN, and it also requires a significantly lower training and testing time than a Convolutional Neural Network. Therefore, I'm going to implement a decision forest model.\n",
    "\n",
    "- The data needs to be processed appropriately: remove excess whitespaces, unknown characters and so on\n",
    "\n",
    "Going further, a decision forest model is quite robust to overfitting. The validation data can still be used for tuning the model."
   ]
  },
  {
   "cell_type": "code",
   "execution_count": 7,
   "metadata": {},
   "outputs": [],
   "source": [
    "# Preprocessing the data\n",
    "\n",
    "# Creating a list of all the characters that we want to keep\n",
    "desired_alphabet = [' ', '!', '\"', '#', '$', '%', '&', \"'\", '(', ')', '*', '+', ',', '-', '.', '/', '0', '1', '2', '3', '4', '5', '6', '7', '8', '9', ':', ';', '<', '=', '>', '?', '@', 'A', 'B', 'C', 'D', 'E', 'F', 'G', 'H', 'I', 'J', 'K', 'L', 'M', 'N', 'O', 'P', 'Q', 'R', 'S', 'T', 'U', 'V', 'W', 'X', 'Y', 'Z', '[', ']', '^', '_', '`', 'a', 'b', 'c', 'd', 'e', 'f', 'g', 'h', 'i', 'j', 'k', 'l', 'm', 'n', 'o', 'p', 'q', 'r', 's', 't', 'u', 'v', 'w', 'x', 'y', 'z', '{', '|', '~', '—', '‘', '’', '“', '”']\n",
    "\n",
    "# Removing the characters that are not in the desired alphabet\n",
    "train_df['Sentence'] = train_df['Sentence'].apply(lambda x: ''.join([char for char in x if char in desired_alphabet]))\n",
    "valid_df['Sentence'] = valid_df['Sentence'].apply(lambda x: ''.join([char for char in x if char in desired_alphabet]))\n",
    "test_df['Sentence'] = test_df['Sentence'].apply(lambda x: ''.join([char for char in x if char in desired_alphabet]))\n",
    "\n",
    "# Creating a dictionary that maps each character to a unique integer\n",
    "char_to_int = dict((c, i) for i, c in enumerate(desired_alphabet))"
   ]
  },
  {
   "attachments": {},
   "cell_type": "markdown",
   "metadata": {},
   "source": [
    "Plotting the length distribution of the queries in the dataset in order to determine the relevant length of the input sequences."
   ]
  },
  {
   "cell_type": "code",
   "execution_count": 8,
   "metadata": {},
   "outputs": [
    {
     "name": "stdout",
     "output_type": "stream",
     "text": [
      "5364\n"
     ]
    },
    {
     "data": {
      "image/png": "[encoded data removed]",
      "text/plain": [
       "<Figure size 1600x600 with 1 Axes>"
      ]
     },
     "metadata": {},
     "output_type": "display_data"
    }
   ],
   "source": [
    "plt.figure(figsize=(16, 6))\n",
    "\n",
    "x = np.sort(train_df['Sentence'].apply(len))\n",
    "y = np.linspace(0, 1, len(x), endpoint=False)\n",
    "plt.plot(x, y, lw=3)\n",
    "plt.xticks(np.arange(0, x.max(), 100))\n",
    "plt.xlim([0, 1000])\n",
    "\n",
    "plt.title('Fraction of Sentences with len ≤ x', fontsize=16)\n",
    "pass\n",
    "\n",
    "print(max(train_df['Sentence'].apply(len)))\n"
   ]
  },
  {
   "cell_type": "code",
   "execution_count": 9,
   "metadata": {},
   "outputs": [],
   "source": [
    "# Separating the data into X and y for each set\n",
    "# X is the sentence and y is the label\n",
    "X_train = train_df['Sentence']\n",
    "y_train = train_df['Label']\n",
    "\n",
    "X_valid = valid_df['Sentence']\n",
    "y_valid = valid_df['Label']\n",
    "\n",
    "X_test = test_df['Sentence']"
   ]
  },
  {
   "cell_type": "code",
   "execution_count": 10,
   "metadata": {},
   "outputs": [],
   "source": [
    "# Tokenizing the data, all in the same way to avoid feature mismatch\n",
    "# Creating a tokenizer\n",
    "tokenizer = tf.keras.preprocessing.text.Tokenizer(char_level=True, filters='')\n",
    "\n",
    "# Fitting the tokenizer on the desired alphabet\n",
    "tokenizer.fit_on_texts(desired_alphabet)\n",
    "\n",
    "# Transforming the data into sequences of integers\n",
    "X_train = tokenizer.texts_to_sequences(X_train)\n",
    "X_valid = tokenizer.texts_to_sequences(X_valid)\n",
    "X_test = tokenizer.texts_to_sequences(X_test)\n",
    "\n",
    "# Padding the sequences to make them all the same length\n",
    "X_train = tf.keras.preprocessing.sequence.pad_sequences(X_train, maxlen=1000, padding='post')\n",
    "X_valid = tf.keras.preprocessing.sequence.pad_sequences(X_valid, maxlen=1000, padding='post')\n",
    "X_test = tf.keras.preprocessing.sequence.pad_sequences(X_test, maxlen=1000, padding='post')"
   ]
  },
  {
   "cell_type": "code",
   "execution_count": 11,
   "metadata": {},
   "outputs": [],
   "source": [
    "# Creating the model architecture\n",
    "# Random Forest\n",
    "from sklearn.ensemble import RandomForestClassifier\n",
    "from sklearn.metrics import accuracy_score\n",
    "\n",
    "# Create the model\n",
    "rf_model = RandomForestClassifier(n_estimators=100, random_state=42, verbose=1)"
   ]
  },
  {
   "cell_type": "code",
   "execution_count": 12,
   "metadata": {},
   "outputs": [
    {
     "name": "stderr",
     "output_type": "stream",
     "text": [
      "[Parallel(n_jobs=1)]: Using backend SequentialBackend with 1 concurrent workers.\n",
      "[Parallel(n_jobs=1)]: Done 100 out of 100 | elapsed:   17.8s finished\n"
     ]
    },
    {
     "data": {
      "text/plain": [
       "RandomForestClassifier(random_state=42, verbose=1)"
      ]
     },
     "execution_count": 12,
     "metadata": {},
     "output_type": "execute_result"
    }
   ],
   "source": [
    "# Fit the model\n",
    "rf_model.fit(X_train, y_train)"
   ]
  },
  {
   "cell_type": "code",
   "execution_count": 13,
   "metadata": {},
   "outputs": [
    {
     "name": "stderr",
     "output_type": "stream",
     "text": [
      "[Parallel(n_jobs=1)]: Using backend SequentialBackend with 1 concurrent workers.\n",
      "[Parallel(n_jobs=1)]: Done 100 out of 100 | elapsed:    0.1s finished\n"
     ]
    }
   ],
   "source": [
    "# Predict on the validation set\n",
    "y_pred = rf_model.predict(X_valid)"
   ]
  },
  {
   "cell_type": "code",
   "execution_count": 14,
   "metadata": {},
   "outputs": [
    {
     "name": "stdout",
     "output_type": "stream",
     "text": [
      "Accuracy: 99.43%\n"
     ]
    }
   ],
   "source": [
    "# Calculate the accuracy in percentage\n",
    "accuracy = accuracy_score(y_valid, y_pred) * 100\n",
    "print(f\"Accuracy: {accuracy:.2f}%\")"
   ]
  },
  {
   "cell_type": "code",
   "execution_count": 15,
   "metadata": {},
   "outputs": [
    {
     "name": "stdout",
     "output_type": "stream",
     "text": [
      "Malicious\n"
     ]
    },
    {
     "name": "stderr",
     "output_type": "stream",
     "text": [
      "[Parallel(n_jobs=1)]: Using backend SequentialBackend with 1 concurrent workers.\n",
      "[Parallel(n_jobs=1)]: Done 100 out of 100 | elapsed:    0.0s finished\n"
     ]
    }
   ],
   "source": [
    "# Test a SQL injection and classify it as malicious or benign\n",
    "test = \"1' OR 1=1; --\"\n",
    "test = tokenizer.texts_to_sequences(test)\n",
    "test = tf.keras.preprocessing.sequence.pad_sequences(test, maxlen=1000, padding='post')\n",
    "test_pred = rf_model.predict(test)\n",
    "test_pred_binary = [1 if x > 0.5 else 0 for x in test_pred]\n",
    "\n",
    "if test_pred_binary[0] == 1:\n",
    "    print(\"Malicious\")\n",
    "else:\n",
    "    print(\"Benign\")"
   ]
  }
 ],
 "metadata": {
  "kernelspec": {
   "display_name": "base",
   "language": "python",
   "name": "python3"
  },
  "language_info": {
   "codemirror_mode": {
    "name": "ipython",
    "version": 3
   },
   "file_extension": ".py",
   "mimetype": "text/x-python",
   "name": "python",
   "nbconvert_exporter": "python",
   "pygments_lexer": "ipython3",
   "version": "3.9.13"
  },
  "vscode": {
   "interpreter": {
    "hash": "ad2bdc8ecc057115af97d19610ffacc2b4e99fae6737bb82f5d7fb13d2f2c186"
   }
  }
 },
 "nbformat": 4,
 "nbformat_minor": 4
}
